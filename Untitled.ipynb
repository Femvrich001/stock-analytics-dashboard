{
 "cells": [
  {
   "cell_type": "code",
   "execution_count": 1,
   "id": "12dcfdbc-944a-4197-b219-9536e37f02aa",
   "metadata": {},
   "outputs": [
    {
     "name": "stdout",
     "output_type": "stream",
     "text": [
      "            1. open   2. high    3. low  4. close    5. volume\n",
      "2025-04-14  211.440  212.9400  201.1621    202.52  101352911.0\n",
      "2025-04-11  186.100  199.5400  186.0600    198.15   87435915.0\n",
      "2025-04-10  189.065  194.7799  183.0000    190.42  121879981.0\n",
      "2025-04-09  171.950  200.6100  171.8900    198.85  184395885.0\n",
      "2025-04-08  186.700  190.3350  169.2101    172.42  120859491.0\n"
     ]
    }
   ],
   "source": [
    "import requests\n",
    "import pandas as pd\n",
    "\n",
    "# Replace with your own API key\n",
    "api_key = 'XDN11D17JY83PDYG'\n",
    "\n",
    "def fetch_stock_data(symbol):\n",
    "    url = f'https://www.alphavantage.co/query?function=TIME_SERIES_DAILY&symbol={symbol}&apikey={api_key}'\n",
    "    response = requests.get(url)\n",
    "    data = response.json()\n",
    "\n",
    "    # Check if the data is available\n",
    "    if 'Time Series (Daily)' in data:\n",
    "        df = pd.DataFrame(data['Time Series (Daily)']).T\n",
    "        df = df.astype(float)\n",
    "        df.index = pd.to_datetime(df.index)\n",
    "        return df\n",
    "    else:\n",
    "        return None\n",
    "\n",
    "# Test the function\n",
    "symbol = 'AAPL'\n",
    "data = fetch_stock_data(symbol)\n",
    "print(data.head())\n"
   ]
  },
  {
   "cell_type": "code",
   "execution_count": 2,
   "id": "10f21de7-95c6-4992-bce5-3d21900007e5",
   "metadata": {},
   "outputs": [],
   "source": [
    "def calculate_moving_averages(df):\n",
    "    df['50_MA'] = df['4. close'].rolling(window=50).mean()\n",
    "    df['200_MA'] = df['4. close'].rolling(window=200).mean()\n",
    "    return df\n"
   ]
  },
  {
   "cell_type": "code",
   "execution_count": null,
   "id": "3896d830-43b6-43c1-b430-d8c5e8022e5e",
   "metadata": {},
   "outputs": [],
   "source": []
  }
 ],
 "metadata": {
  "kernelspec": {
   "display_name": "Python 3 (ipykernel)",
   "language": "python",
   "name": "python3"
  },
  "language_info": {
   "codemirror_mode": {
    "name": "ipython",
    "version": 3
   },
   "file_extension": ".py",
   "mimetype": "text/x-python",
   "name": "python",
   "nbconvert_exporter": "python",
   "pygments_lexer": "ipython3",
   "version": "3.12.0"
  }
 },
 "nbformat": 4,
 "nbformat_minor": 5
}
